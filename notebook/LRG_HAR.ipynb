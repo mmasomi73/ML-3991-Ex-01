{
  "nbformat": 4,
  "nbformat_minor": 0,
  "metadata": {
    "colab": {
      "name": "LRG_HAR.ipynb",
      "provenance": [],
      "collapsed_sections": []
    },
    "kernelspec": {
      "name": "python3",
      "display_name": "Python 3"
    }
  },
  "cells": [
    {
      "cell_type": "code",
      "metadata": {
        "id": "JOuOwZITn7sc"
      },
      "source": [
        "from sklearn.linear_model import LogisticRegression\r\n",
        "import matplotlib.pyplot as plt\r\n",
        "import numpy as np\r\n",
        "import os"
      ],
      "execution_count": 1,
      "outputs": []
    },
    {
      "cell_type": "code",
      "metadata": {
        "id": "TVdYbKsPoCBg"
      },
      "source": [
        "def dataSetReader(path):\r\n",
        "    if not os.path.isfile(path):\r\n",
        "        print(Fore.RED + \"\\t+------------------------+\")\r\n",
        "        print(Fore.RED + \"\\t| File or Path Incorrect |\")\r\n",
        "        print(Fore.RED + \"\\t+------------------------+\")\r\n",
        "        return np.array([])\r\n",
        "    return np.loadtxt(path)"
      ],
      "execution_count": 2,
      "outputs": []
    },
    {
      "cell_type": "code",
      "metadata": {
        "colab": {
          "base_uri": "https://localhost:8080/"
        },
        "id": "B9p9WG1SoLGj",
        "outputId": "4f60bdc3-b786-4676-ea96-c67c88ca4f0e"
      },
      "source": [
        "! wget -O UCI_HAR_Dataset.zip https://archive.ics.uci.edu/ml/machine-learning-databases/00240/UCI%20HAR%20Dataset.zip\r\n",
        "! unzip UCI_HAR_Dataset.zip  -d Dataset"
      ],
      "execution_count": 4,
      "outputs": [
        {
          "output_type": "stream",
          "text": [
            "--2021-01-05 12:58:38--  https://archive.ics.uci.edu/ml/machine-learning-databases/00240/UCI%20HAR%20Dataset.zip\n",
            "Resolving archive.ics.uci.edu (archive.ics.uci.edu)... 128.195.10.252\n",
            "Connecting to archive.ics.uci.edu (archive.ics.uci.edu)|128.195.10.252|:443... connected.\n",
            "HTTP request sent, awaiting response... 200 OK\n",
            "Length: 60999314 (58M) [application/x-httpd-php]\n",
            "Saving to: ‘UCI_HAR_Dataset.zip’\n",
            "\n",
            "UCI_HAR_Dataset.zip 100%[===================>]  58.17M  33.2MB/s    in 1.8s    \n",
            "\n",
            "2021-01-05 12:58:40 (33.2 MB/s) - ‘UCI_HAR_Dataset.zip’ saved [60999314/60999314]\n",
            "\n",
            "Archive:  UCI_HAR_Dataset.zip\n",
            "   creating: Dataset/UCI HAR Dataset/\n",
            "  inflating: Dataset/UCI HAR Dataset/.DS_Store  \n",
            "   creating: Dataset/__MACOSX/\n",
            "   creating: Dataset/__MACOSX/UCI HAR Dataset/\n",
            "  inflating: Dataset/__MACOSX/UCI HAR Dataset/._.DS_Store  \n",
            "  inflating: Dataset/UCI HAR Dataset/activity_labels.txt  \n",
            "  inflating: Dataset/__MACOSX/UCI HAR Dataset/._activity_labels.txt  \n",
            "  inflating: Dataset/UCI HAR Dataset/features.txt  \n",
            "  inflating: Dataset/__MACOSX/UCI HAR Dataset/._features.txt  \n",
            "  inflating: Dataset/UCI HAR Dataset/features_info.txt  \n",
            "  inflating: Dataset/__MACOSX/UCI HAR Dataset/._features_info.txt  \n",
            "  inflating: Dataset/UCI HAR Dataset/README.txt  \n",
            "  inflating: Dataset/__MACOSX/UCI HAR Dataset/._README.txt  \n",
            "   creating: Dataset/UCI HAR Dataset/test/\n",
            "   creating: Dataset/UCI HAR Dataset/test/Inertial Signals/\n",
            "  inflating: Dataset/UCI HAR Dataset/test/Inertial Signals/body_acc_x_test.txt  \n",
            "   creating: Dataset/__MACOSX/UCI HAR Dataset/test/\n",
            "   creating: Dataset/__MACOSX/UCI HAR Dataset/test/Inertial Signals/\n",
            "  inflating: Dataset/__MACOSX/UCI HAR Dataset/test/Inertial Signals/._body_acc_x_test.txt  \n",
            "  inflating: Dataset/UCI HAR Dataset/test/Inertial Signals/body_acc_y_test.txt  \n",
            "  inflating: Dataset/__MACOSX/UCI HAR Dataset/test/Inertial Signals/._body_acc_y_test.txt  \n",
            "  inflating: Dataset/UCI HAR Dataset/test/Inertial Signals/body_acc_z_test.txt  \n",
            "  inflating: Dataset/__MACOSX/UCI HAR Dataset/test/Inertial Signals/._body_acc_z_test.txt  \n",
            "  inflating: Dataset/UCI HAR Dataset/test/Inertial Signals/body_gyro_x_test.txt  \n",
            "  inflating: Dataset/__MACOSX/UCI HAR Dataset/test/Inertial Signals/._body_gyro_x_test.txt  \n",
            "  inflating: Dataset/UCI HAR Dataset/test/Inertial Signals/body_gyro_y_test.txt  \n",
            "  inflating: Dataset/__MACOSX/UCI HAR Dataset/test/Inertial Signals/._body_gyro_y_test.txt  \n",
            "  inflating: Dataset/UCI HAR Dataset/test/Inertial Signals/body_gyro_z_test.txt  \n",
            "  inflating: Dataset/__MACOSX/UCI HAR Dataset/test/Inertial Signals/._body_gyro_z_test.txt  \n",
            "  inflating: Dataset/UCI HAR Dataset/test/Inertial Signals/total_acc_x_test.txt  \n",
            "  inflating: Dataset/__MACOSX/UCI HAR Dataset/test/Inertial Signals/._total_acc_x_test.txt  \n",
            "  inflating: Dataset/UCI HAR Dataset/test/Inertial Signals/total_acc_y_test.txt  \n",
            "  inflating: Dataset/__MACOSX/UCI HAR Dataset/test/Inertial Signals/._total_acc_y_test.txt  \n",
            "  inflating: Dataset/UCI HAR Dataset/test/Inertial Signals/total_acc_z_test.txt  \n",
            "  inflating: Dataset/__MACOSX/UCI HAR Dataset/test/Inertial Signals/._total_acc_z_test.txt  \n",
            "  inflating: Dataset/__MACOSX/UCI HAR Dataset/test/._Inertial Signals  \n",
            "  inflating: Dataset/UCI HAR Dataset/test/subject_test.txt  \n",
            "  inflating: Dataset/__MACOSX/UCI HAR Dataset/test/._subject_test.txt  \n",
            "  inflating: Dataset/UCI HAR Dataset/test/X_test.txt  \n",
            "  inflating: Dataset/__MACOSX/UCI HAR Dataset/test/._X_test.txt  \n",
            "  inflating: Dataset/UCI HAR Dataset/test/y_test.txt  \n",
            "  inflating: Dataset/__MACOSX/UCI HAR Dataset/test/._y_test.txt  \n",
            "  inflating: Dataset/__MACOSX/UCI HAR Dataset/._test  \n",
            "   creating: Dataset/UCI HAR Dataset/train/\n",
            "   creating: Dataset/UCI HAR Dataset/train/Inertial Signals/\n",
            "  inflating: Dataset/UCI HAR Dataset/train/Inertial Signals/body_acc_x_train.txt  \n",
            "   creating: Dataset/__MACOSX/UCI HAR Dataset/train/\n",
            "   creating: Dataset/__MACOSX/UCI HAR Dataset/train/Inertial Signals/\n",
            "  inflating: Dataset/__MACOSX/UCI HAR Dataset/train/Inertial Signals/._body_acc_x_train.txt  \n",
            "  inflating: Dataset/UCI HAR Dataset/train/Inertial Signals/body_acc_y_train.txt  \n",
            "  inflating: Dataset/__MACOSX/UCI HAR Dataset/train/Inertial Signals/._body_acc_y_train.txt  \n",
            "  inflating: Dataset/UCI HAR Dataset/train/Inertial Signals/body_acc_z_train.txt  \n",
            "  inflating: Dataset/__MACOSX/UCI HAR Dataset/train/Inertial Signals/._body_acc_z_train.txt  \n",
            "  inflating: Dataset/UCI HAR Dataset/train/Inertial Signals/body_gyro_x_train.txt  \n",
            "  inflating: Dataset/__MACOSX/UCI HAR Dataset/train/Inertial Signals/._body_gyro_x_train.txt  \n",
            "  inflating: Dataset/UCI HAR Dataset/train/Inertial Signals/body_gyro_y_train.txt  \n",
            "  inflating: Dataset/__MACOSX/UCI HAR Dataset/train/Inertial Signals/._body_gyro_y_train.txt  \n",
            "  inflating: Dataset/UCI HAR Dataset/train/Inertial Signals/body_gyro_z_train.txt  \n",
            "  inflating: Dataset/__MACOSX/UCI HAR Dataset/train/Inertial Signals/._body_gyro_z_train.txt  \n",
            "  inflating: Dataset/UCI HAR Dataset/train/Inertial Signals/total_acc_x_train.txt  \n",
            "  inflating: Dataset/__MACOSX/UCI HAR Dataset/train/Inertial Signals/._total_acc_x_train.txt  \n",
            "  inflating: Dataset/UCI HAR Dataset/train/Inertial Signals/total_acc_y_train.txt  \n",
            "  inflating: Dataset/__MACOSX/UCI HAR Dataset/train/Inertial Signals/._total_acc_y_train.txt  \n",
            "  inflating: Dataset/UCI HAR Dataset/train/Inertial Signals/total_acc_z_train.txt  \n",
            "  inflating: Dataset/__MACOSX/UCI HAR Dataset/train/Inertial Signals/._total_acc_z_train.txt  \n",
            "  inflating: Dataset/__MACOSX/UCI HAR Dataset/train/._Inertial Signals  \n",
            "  inflating: Dataset/UCI HAR Dataset/train/subject_train.txt  \n",
            "  inflating: Dataset/__MACOSX/UCI HAR Dataset/train/._subject_train.txt  \n",
            "  inflating: Dataset/UCI HAR Dataset/train/X_train.txt  \n",
            "  inflating: Dataset/__MACOSX/UCI HAR Dataset/train/._X_train.txt  \n",
            "  inflating: Dataset/UCI HAR Dataset/train/y_train.txt  \n",
            "  inflating: Dataset/__MACOSX/UCI HAR Dataset/train/._y_train.txt  \n",
            "  inflating: Dataset/__MACOSX/UCI HAR Dataset/._train  \n",
            "  inflating: Dataset/__MACOSX/._UCI HAR Dataset  \n"
          ],
          "name": "stdout"
        }
      ]
    },
    {
      "cell_type": "code",
      "metadata": {
        "id": "D5b0dOqnoGks"
      },
      "source": [
        "# -----= Read Dataset\r\n",
        "train_x = dataSetReader('Dataset/UCI HAR Dataset/train/X_train.txt')\r\n",
        "train_y = dataSetReader('Dataset/UCI HAR Dataset/train/y_train.txt')\r\n",
        "test_x = dataSetReader('Dataset/UCI HAR Dataset/test/X_test.txt')\r\n",
        "test_y = dataSetReader('Dataset/UCI HAR Dataset/test/y_test.txt')\r\n"
      ],
      "execution_count": 6,
      "outputs": []
    },
    {
      "cell_type": "code",
      "metadata": {
        "colab": {
          "base_uri": "https://localhost:8080/"
        },
        "id": "TMqYTLA7oTcZ",
        "outputId": "f0902a5e-ef0b-4597-d8b4-83f9551fc7d3"
      },
      "source": [
        "clf = LogisticRegression(solver='sag', max_iter=100, random_state=0, multi_class='multinomial')\r\n",
        "clf.fit(train_x, train_y)\r\n",
        "result = []\r\n",
        "currect = 0\r\n"
      ],
      "execution_count": 11,
      "outputs": [
        {
          "output_type": "stream",
          "text": [
            "/usr/local/lib/python3.6/dist-packages/sklearn/linear_model/_sag.py:330: ConvergenceWarning: The max_iter was reached which means the coef_ did not converge\n",
            "  \"the coef_ did not converge\", ConvergenceWarning)\n"
          ],
          "name": "stderr"
        }
      ]
    },
    {
      "cell_type": "code",
      "metadata": {
        "id": "IdAyUrMmpNaF"
      },
      "source": [
        "labels_predict = clf.predict(test_x)\r\n",
        "for i in range(len(labels_predict)):\r\n",
        "    if labels_predict[i] == test_y[i]:\r\n",
        "        currect += 1\r\n",
        "    result.append([i, test_y[i], labels_predict[i]])"
      ],
      "execution_count": 12,
      "outputs": []
    },
    {
      "cell_type": "code",
      "metadata": {
        "colab": {
          "base_uri": "https://localhost:8080/"
        },
        "id": "fL-_0A45pP7E",
        "outputId": "abd3778d-9048-44a1-8b5e-c42cb4e8f91e"
      },
      "source": [
        "print(\"\\n Accuracy : {}\".format((currect / len(test_y)) * 100))\r\n",
        "print(\"\\n MissClassification : {}\".format(((len(test_y) - currect) / len(test_y)) * 100))\r\n",
        "print(\"\\n Coefficients : {}\".format(clf.coef_))"
      ],
      "execution_count": 14,
      "outputs": [
        {
          "output_type": "stream",
          "text": [
            "\n",
            " Accuracy : 95.99592806243638\n",
            "\n",
            " MissClassification : 4.004071937563624\n",
            "\n",
            " Coefficients : [[-0.00822524 -0.03852925  0.0388602  ... -0.30673823 -0.05654996\n",
            "   0.09073149]\n",
            " [-0.12428784 -0.10115471 -0.18756994 ...  0.45474045  0.46383824\n",
            "   0.15526197]\n",
            " [ 0.25293985  0.09457047  0.11693591 ... -0.35717427 -0.25397469\n",
            "  -0.14892055]\n",
            " [-0.07747078 -0.05072748 -0.09106718 ... -0.57097299 -1.08085868\n",
            "  -0.19079681]\n",
            " [ 0.05977161  0.07105908  0.0745097  ... -0.8027932   1.54421605\n",
            "   0.27149551]\n",
            " [-0.10272759  0.02478188  0.04833131 ...  1.58293825 -0.61667096\n",
            "  -0.17777161]]\n"
          ],
          "name": "stdout"
        }
      ]
    }
  ]
}