{
  "nbformat": 4,
  "nbformat_minor": 0,
  "metadata": {
    "colab": {
      "name": "PER_HAR.ipynb",
      "provenance": []
    },
    "kernelspec": {
      "name": "python3",
      "display_name": "Python 3"
    }
  },
  "cells": [
    {
      "cell_type": "code",
      "metadata": {
        "id": "P_jXh7x9qYcw"
      },
      "source": [
        "from sklearn.linear_model import Perceptron\r\n",
        "import matplotlib.pyplot as plt\r\n",
        "import numpy as np\r\n",
        "import os"
      ],
      "execution_count": 2,
      "outputs": []
    },
    {
      "cell_type": "code",
      "metadata": {
        "id": "QDaLIrRFqhv1"
      },
      "source": [
        "def dataSetReader(path):\r\n",
        "    if not os.path.isfile(path):\r\n",
        "        print(\"\\t+------------------------+\")\r\n",
        "        print(\"\\t| File or Path Incorrect |\")\r\n",
        "        print(\"\\t+------------------------+\")\r\n",
        "        return np.array([])\r\n",
        "    return np.loadtxt(path)"
      ],
      "execution_count": 3,
      "outputs": []
    },
    {
      "cell_type": "code",
      "metadata": {
        "colab": {
          "base_uri": "https://localhost:8080/"
        },
        "id": "q_Gz8In2qiHM",
        "outputId": "8e32170b-0f95-4e66-dcb7-e302d1033362"
      },
      "source": [
        "! wget -O UCI_HAR_Dataset.zip https://archive.ics.uci.edu/ml/machine-learning-databases/00240/UCI%20HAR%20Dataset.zip\r\n",
        "! unzip UCI_HAR_Dataset.zip  -d Dataset"
      ],
      "execution_count": 4,
      "outputs": [
        {
          "output_type": "stream",
          "text": [
            "--2021-01-05 13:08:59--  https://archive.ics.uci.edu/ml/machine-learning-databases/00240/UCI%20HAR%20Dataset.zip\n",
            "Resolving archive.ics.uci.edu (archive.ics.uci.edu)... 128.195.10.252\n",
            "Connecting to archive.ics.uci.edu (archive.ics.uci.edu)|128.195.10.252|:443... connected.\n",
            "HTTP request sent, awaiting response... 200 OK\n",
            "Length: 60999314 (58M) [application/x-httpd-php]\n",
            "Saving to: ‘UCI_HAR_Dataset.zip’\n",
            "\n",
            "UCI_HAR_Dataset.zip 100%[===================>]  58.17M  42.2MB/s    in 1.4s    \n",
            "\n",
            "2021-01-05 13:09:01 (42.2 MB/s) - ‘UCI_HAR_Dataset.zip’ saved [60999314/60999314]\n",
            "\n",
            "Archive:  UCI_HAR_Dataset.zip\n",
            "   creating: Dataset/UCI HAR Dataset/\n",
            "  inflating: Dataset/UCI HAR Dataset/.DS_Store  \n",
            "   creating: Dataset/__MACOSX/\n",
            "   creating: Dataset/__MACOSX/UCI HAR Dataset/\n",
            "  inflating: Dataset/__MACOSX/UCI HAR Dataset/._.DS_Store  \n",
            "  inflating: Dataset/UCI HAR Dataset/activity_labels.txt  \n",
            "  inflating: Dataset/__MACOSX/UCI HAR Dataset/._activity_labels.txt  \n",
            "  inflating: Dataset/UCI HAR Dataset/features.txt  \n",
            "  inflating: Dataset/__MACOSX/UCI HAR Dataset/._features.txt  \n",
            "  inflating: Dataset/UCI HAR Dataset/features_info.txt  \n",
            "  inflating: Dataset/__MACOSX/UCI HAR Dataset/._features_info.txt  \n",
            "  inflating: Dataset/UCI HAR Dataset/README.txt  \n",
            "  inflating: Dataset/__MACOSX/UCI HAR Dataset/._README.txt  \n",
            "   creating: Dataset/UCI HAR Dataset/test/\n",
            "   creating: Dataset/UCI HAR Dataset/test/Inertial Signals/\n",
            "  inflating: Dataset/UCI HAR Dataset/test/Inertial Signals/body_acc_x_test.txt  \n",
            "   creating: Dataset/__MACOSX/UCI HAR Dataset/test/\n",
            "   creating: Dataset/__MACOSX/UCI HAR Dataset/test/Inertial Signals/\n",
            "  inflating: Dataset/__MACOSX/UCI HAR Dataset/test/Inertial Signals/._body_acc_x_test.txt  \n",
            "  inflating: Dataset/UCI HAR Dataset/test/Inertial Signals/body_acc_y_test.txt  \n",
            "  inflating: Dataset/__MACOSX/UCI HAR Dataset/test/Inertial Signals/._body_acc_y_test.txt  \n",
            "  inflating: Dataset/UCI HAR Dataset/test/Inertial Signals/body_acc_z_test.txt  \n",
            "  inflating: Dataset/__MACOSX/UCI HAR Dataset/test/Inertial Signals/._body_acc_z_test.txt  \n",
            "  inflating: Dataset/UCI HAR Dataset/test/Inertial Signals/body_gyro_x_test.txt  \n",
            "  inflating: Dataset/__MACOSX/UCI HAR Dataset/test/Inertial Signals/._body_gyro_x_test.txt  \n",
            "  inflating: Dataset/UCI HAR Dataset/test/Inertial Signals/body_gyro_y_test.txt  \n",
            "  inflating: Dataset/__MACOSX/UCI HAR Dataset/test/Inertial Signals/._body_gyro_y_test.txt  \n",
            "  inflating: Dataset/UCI HAR Dataset/test/Inertial Signals/body_gyro_z_test.txt  \n",
            "  inflating: Dataset/__MACOSX/UCI HAR Dataset/test/Inertial Signals/._body_gyro_z_test.txt  \n",
            "  inflating: Dataset/UCI HAR Dataset/test/Inertial Signals/total_acc_x_test.txt  \n",
            "  inflating: Dataset/__MACOSX/UCI HAR Dataset/test/Inertial Signals/._total_acc_x_test.txt  \n",
            "  inflating: Dataset/UCI HAR Dataset/test/Inertial Signals/total_acc_y_test.txt  \n",
            "  inflating: Dataset/__MACOSX/UCI HAR Dataset/test/Inertial Signals/._total_acc_y_test.txt  \n",
            "  inflating: Dataset/UCI HAR Dataset/test/Inertial Signals/total_acc_z_test.txt  \n",
            "  inflating: Dataset/__MACOSX/UCI HAR Dataset/test/Inertial Signals/._total_acc_z_test.txt  \n",
            "  inflating: Dataset/__MACOSX/UCI HAR Dataset/test/._Inertial Signals  \n",
            "  inflating: Dataset/UCI HAR Dataset/test/subject_test.txt  \n",
            "  inflating: Dataset/__MACOSX/UCI HAR Dataset/test/._subject_test.txt  \n",
            "  inflating: Dataset/UCI HAR Dataset/test/X_test.txt  \n",
            "  inflating: Dataset/__MACOSX/UCI HAR Dataset/test/._X_test.txt  \n",
            "  inflating: Dataset/UCI HAR Dataset/test/y_test.txt  \n",
            "  inflating: Dataset/__MACOSX/UCI HAR Dataset/test/._y_test.txt  \n",
            "  inflating: Dataset/__MACOSX/UCI HAR Dataset/._test  \n",
            "   creating: Dataset/UCI HAR Dataset/train/\n",
            "   creating: Dataset/UCI HAR Dataset/train/Inertial Signals/\n",
            "  inflating: Dataset/UCI HAR Dataset/train/Inertial Signals/body_acc_x_train.txt  \n",
            "   creating: Dataset/__MACOSX/UCI HAR Dataset/train/\n",
            "   creating: Dataset/__MACOSX/UCI HAR Dataset/train/Inertial Signals/\n",
            "  inflating: Dataset/__MACOSX/UCI HAR Dataset/train/Inertial Signals/._body_acc_x_train.txt  \n",
            "  inflating: Dataset/UCI HAR Dataset/train/Inertial Signals/body_acc_y_train.txt  \n",
            "  inflating: Dataset/__MACOSX/UCI HAR Dataset/train/Inertial Signals/._body_acc_y_train.txt  \n",
            "  inflating: Dataset/UCI HAR Dataset/train/Inertial Signals/body_acc_z_train.txt  \n",
            "  inflating: Dataset/__MACOSX/UCI HAR Dataset/train/Inertial Signals/._body_acc_z_train.txt  \n",
            "  inflating: Dataset/UCI HAR Dataset/train/Inertial Signals/body_gyro_x_train.txt  \n",
            "  inflating: Dataset/__MACOSX/UCI HAR Dataset/train/Inertial Signals/._body_gyro_x_train.txt  \n",
            "  inflating: Dataset/UCI HAR Dataset/train/Inertial Signals/body_gyro_y_train.txt  \n",
            "  inflating: Dataset/__MACOSX/UCI HAR Dataset/train/Inertial Signals/._body_gyro_y_train.txt  \n",
            "  inflating: Dataset/UCI HAR Dataset/train/Inertial Signals/body_gyro_z_train.txt  \n",
            "  inflating: Dataset/__MACOSX/UCI HAR Dataset/train/Inertial Signals/._body_gyro_z_train.txt  \n",
            "  inflating: Dataset/UCI HAR Dataset/train/Inertial Signals/total_acc_x_train.txt  \n",
            "  inflating: Dataset/__MACOSX/UCI HAR Dataset/train/Inertial Signals/._total_acc_x_train.txt  \n",
            "  inflating: Dataset/UCI HAR Dataset/train/Inertial Signals/total_acc_y_train.txt  \n",
            "  inflating: Dataset/__MACOSX/UCI HAR Dataset/train/Inertial Signals/._total_acc_y_train.txt  \n",
            "  inflating: Dataset/UCI HAR Dataset/train/Inertial Signals/total_acc_z_train.txt  \n",
            "  inflating: Dataset/__MACOSX/UCI HAR Dataset/train/Inertial Signals/._total_acc_z_train.txt  \n",
            "  inflating: Dataset/__MACOSX/UCI HAR Dataset/train/._Inertial Signals  \n",
            "  inflating: Dataset/UCI HAR Dataset/train/subject_train.txt  \n",
            "  inflating: Dataset/__MACOSX/UCI HAR Dataset/train/._subject_train.txt  \n",
            "  inflating: Dataset/UCI HAR Dataset/train/X_train.txt  \n",
            "  inflating: Dataset/__MACOSX/UCI HAR Dataset/train/._X_train.txt  \n",
            "  inflating: Dataset/UCI HAR Dataset/train/y_train.txt  \n",
            "  inflating: Dataset/__MACOSX/UCI HAR Dataset/train/._y_train.txt  \n",
            "  inflating: Dataset/__MACOSX/UCI HAR Dataset/._train  \n",
            "  inflating: Dataset/__MACOSX/._UCI HAR Dataset  \n"
          ],
          "name": "stdout"
        }
      ]
    },
    {
      "cell_type": "code",
      "metadata": {
        "id": "5M3kZvEDqjZW"
      },
      "source": [
        "# -----= Read Dataset\r\n",
        "train_x = dataSetReader('Dataset/UCI HAR Dataset/train/X_train.txt')\r\n",
        "train_y = dataSetReader('Dataset/UCI HAR Dataset/train/y_train.txt')\r\n",
        "test_x = dataSetReader('Dataset/UCI HAR Dataset/test/X_test.txt')\r\n",
        "test_y = dataSetReader('Dataset/UCI HAR Dataset/test/y_test.txt')"
      ],
      "execution_count": 6,
      "outputs": []
    },
    {
      "cell_type": "code",
      "metadata": {
        "id": "NjbDBU2Kqv41"
      },
      "source": [
        "clf = Perceptron(tol=1e-3, random_state=0)\r\n",
        "clf.fit(train_x, train_y)\r\n",
        "result = []\r\n",
        "currect = 0"
      ],
      "execution_count": 7,
      "outputs": []
    },
    {
      "cell_type": "code",
      "metadata": {
        "id": "X9VKGIqSqmsU"
      },
      "source": [
        "labels_predict = clf.predict(test_x)\r\n",
        "for i in range(len(labels_predict)):\r\n",
        "    if labels_predict[i] == test_y[i]:\r\n",
        "        currect += 1\r\n",
        "    result.append([i, test_y[i], labels_predict[i]])"
      ],
      "execution_count": 8,
      "outputs": []
    },
    {
      "cell_type": "code",
      "metadata": {
        "colab": {
          "base_uri": "https://localhost:8080/"
        },
        "id": "03eCbznyq1vZ",
        "outputId": "d9b8ab97-65ba-4c89-d870-182e8c0ed916"
      },
      "source": [
        "print(\"\\n Accuracy : {}\".format((currect / len(test_y)) * 100))\r\n",
        "print(\"\\n MissClassification : {}\".format(((len(test_y) - currect) / len(test_y)) * 100))\r\n",
        "print(\"\\n Coefficients : {}\".format(clf.coef_))"
      ],
      "execution_count": 9,
      "outputs": [
        {
          "output_type": "stream",
          "text": [
            "\n",
            " Accuracy : 94.84221241940956\n",
            "\n",
            " MissClassification : 5.157787580590431\n",
            "\n",
            " Coefficients : [[-3.91624009e+00 -6.84945420e-01  3.05375545e+00 ... -9.73321231e+00\n",
            "  -4.42423929e+00  4.84043613e+00]\n",
            " [-8.89724591e+00 -1.38335030e+01 -1.34237938e+01 ...  1.82531201e+01\n",
            "   3.71468463e+01  1.75625154e+01]\n",
            " [ 1.44548666e+01  3.50330578e+00  6.40965375e+00 ... -2.23292773e+01\n",
            "  -1.02761753e+01 -5.03053171e+00]\n",
            " [ 2.46380538e+00  5.40973770e+00 -5.67803987e+00 ... -1.71681866e+02\n",
            "  -1.63094070e+02 -2.70612839e+01]\n",
            " [ 1.42045886e+00 -5.03916309e-01  6.53222267e+00 ... -8.62945327e+01\n",
            "   1.82655069e+02  1.45475801e+01]\n",
            " [-2.53570557e+00 -1.41549879e-01  6.50701748e-01 ...  5.91256941e+01\n",
            "  -1.79124488e+01 -5.75228961e+00]]\n"
          ],
          "name": "stdout"
        }
      ]
    }
  ]
}