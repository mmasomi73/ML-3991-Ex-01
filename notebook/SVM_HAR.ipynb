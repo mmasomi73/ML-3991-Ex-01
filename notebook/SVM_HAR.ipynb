{
  "nbformat": 4,
  "nbformat_minor": 0,
  "metadata": {
    "colab": {
      "name": "SVM_HAR.ipynb",
      "provenance": [],
      "collapsed_sections": []
    },
    "kernelspec": {
      "name": "python3",
      "display_name": "Python 3"
    }
  },
  "cells": [
    {
      "cell_type": "code",
      "metadata": {
        "id": "-MIxXCKW-5Zl"
      },
      "source": [
        "from sklearn import svm\r\n",
        "import matplotlib.pyplot as plt\r\n",
        "import numpy as np\r\n",
        "import os"
      ],
      "execution_count": 1,
      "outputs": []
    },
    {
      "cell_type": "code",
      "metadata": {
        "id": "mjNxIQ1kCnma"
      },
      "source": [
        "def dataSetReader(path):\r\n",
        "    if not os.path.isfile(path):\r\n",
        "        print(\"\\t+------------------------+\")\r\n",
        "        print(\"\\t| File or Path Incorrect |\")\r\n",
        "        print(\"\\t+------------------------+\")\r\n",
        "        return np.array([])\r\n",
        "    return np.loadtxt(path)"
      ],
      "execution_count": 2,
      "outputs": []
    },
    {
      "cell_type": "code",
      "metadata": {
        "colab": {
          "base_uri": "https://localhost:8080/"
        },
        "id": "9JbL84yTDFLF",
        "outputId": "49026d4b-c70d-4fad-e3f5-86241d61cfea"
      },
      "source": [
        "! wget -O UCI_HAR_Dataset.zip https://archive.ics.uci.edu/ml/machine-learning-databases/00240/UCI%20HAR%20Dataset.zip\r\n",
        "! unzip UCI_HAR_Dataset.zip  -d Dataset"
      ],
      "execution_count": 3,
      "outputs": [
        {
          "output_type": "stream",
          "text": [
            "--2021-01-05 14:56:13--  https://archive.ics.uci.edu/ml/machine-learning-databases/00240/UCI%20HAR%20Dataset.zip\n",
            "Resolving archive.ics.uci.edu (archive.ics.uci.edu)... 128.195.10.252\n",
            "Connecting to archive.ics.uci.edu (archive.ics.uci.edu)|128.195.10.252|:443... connected.\n",
            "HTTP request sent, awaiting response... 200 OK\n",
            "Length: 60999314 (58M) [application/x-httpd-php]\n",
            "Saving to: ‘UCI_HAR_Dataset.zip’\n",
            "\n",
            "UCI_HAR_Dataset.zip 100%[===================>]  58.17M  74.3MB/s    in 0.8s    \n",
            "\n",
            "2021-01-05 14:56:14 (74.3 MB/s) - ‘UCI_HAR_Dataset.zip’ saved [60999314/60999314]\n",
            "\n",
            "Archive:  UCI_HAR_Dataset.zip\n",
            "   creating: Dataset/UCI HAR Dataset/\n",
            "  inflating: Dataset/UCI HAR Dataset/.DS_Store  \n",
            "   creating: Dataset/__MACOSX/\n",
            "   creating: Dataset/__MACOSX/UCI HAR Dataset/\n",
            "  inflating: Dataset/__MACOSX/UCI HAR Dataset/._.DS_Store  \n",
            "  inflating: Dataset/UCI HAR Dataset/activity_labels.txt  \n",
            "  inflating: Dataset/__MACOSX/UCI HAR Dataset/._activity_labels.txt  \n",
            "  inflating: Dataset/UCI HAR Dataset/features.txt  \n",
            "  inflating: Dataset/__MACOSX/UCI HAR Dataset/._features.txt  \n",
            "  inflating: Dataset/UCI HAR Dataset/features_info.txt  \n",
            "  inflating: Dataset/__MACOSX/UCI HAR Dataset/._features_info.txt  \n",
            "  inflating: Dataset/UCI HAR Dataset/README.txt  \n",
            "  inflating: Dataset/__MACOSX/UCI HAR Dataset/._README.txt  \n",
            "   creating: Dataset/UCI HAR Dataset/test/\n",
            "   creating: Dataset/UCI HAR Dataset/test/Inertial Signals/\n",
            "  inflating: Dataset/UCI HAR Dataset/test/Inertial Signals/body_acc_x_test.txt  \n",
            "   creating: Dataset/__MACOSX/UCI HAR Dataset/test/\n",
            "   creating: Dataset/__MACOSX/UCI HAR Dataset/test/Inertial Signals/\n",
            "  inflating: Dataset/__MACOSX/UCI HAR Dataset/test/Inertial Signals/._body_acc_x_test.txt  \n",
            "  inflating: Dataset/UCI HAR Dataset/test/Inertial Signals/body_acc_y_test.txt  \n",
            "  inflating: Dataset/__MACOSX/UCI HAR Dataset/test/Inertial Signals/._body_acc_y_test.txt  \n",
            "  inflating: Dataset/UCI HAR Dataset/test/Inertial Signals/body_acc_z_test.txt  \n",
            "  inflating: Dataset/__MACOSX/UCI HAR Dataset/test/Inertial Signals/._body_acc_z_test.txt  \n",
            "  inflating: Dataset/UCI HAR Dataset/test/Inertial Signals/body_gyro_x_test.txt  \n",
            "  inflating: Dataset/__MACOSX/UCI HAR Dataset/test/Inertial Signals/._body_gyro_x_test.txt  \n",
            "  inflating: Dataset/UCI HAR Dataset/test/Inertial Signals/body_gyro_y_test.txt  \n",
            "  inflating: Dataset/__MACOSX/UCI HAR Dataset/test/Inertial Signals/._body_gyro_y_test.txt  \n",
            "  inflating: Dataset/UCI HAR Dataset/test/Inertial Signals/body_gyro_z_test.txt  \n",
            "  inflating: Dataset/__MACOSX/UCI HAR Dataset/test/Inertial Signals/._body_gyro_z_test.txt  \n",
            "  inflating: Dataset/UCI HAR Dataset/test/Inertial Signals/total_acc_x_test.txt  \n",
            "  inflating: Dataset/__MACOSX/UCI HAR Dataset/test/Inertial Signals/._total_acc_x_test.txt  \n",
            "  inflating: Dataset/UCI HAR Dataset/test/Inertial Signals/total_acc_y_test.txt  \n",
            "  inflating: Dataset/__MACOSX/UCI HAR Dataset/test/Inertial Signals/._total_acc_y_test.txt  \n",
            "  inflating: Dataset/UCI HAR Dataset/test/Inertial Signals/total_acc_z_test.txt  \n",
            "  inflating: Dataset/__MACOSX/UCI HAR Dataset/test/Inertial Signals/._total_acc_z_test.txt  \n",
            "  inflating: Dataset/__MACOSX/UCI HAR Dataset/test/._Inertial Signals  \n",
            "  inflating: Dataset/UCI HAR Dataset/test/subject_test.txt  \n",
            "  inflating: Dataset/__MACOSX/UCI HAR Dataset/test/._subject_test.txt  \n",
            "  inflating: Dataset/UCI HAR Dataset/test/X_test.txt  \n",
            "  inflating: Dataset/__MACOSX/UCI HAR Dataset/test/._X_test.txt  \n",
            "  inflating: Dataset/UCI HAR Dataset/test/y_test.txt  \n",
            "  inflating: Dataset/__MACOSX/UCI HAR Dataset/test/._y_test.txt  \n",
            "  inflating: Dataset/__MACOSX/UCI HAR Dataset/._test  \n",
            "   creating: Dataset/UCI HAR Dataset/train/\n",
            "   creating: Dataset/UCI HAR Dataset/train/Inertial Signals/\n",
            "  inflating: Dataset/UCI HAR Dataset/train/Inertial Signals/body_acc_x_train.txt  \n",
            "   creating: Dataset/__MACOSX/UCI HAR Dataset/train/\n",
            "   creating: Dataset/__MACOSX/UCI HAR Dataset/train/Inertial Signals/\n",
            "  inflating: Dataset/__MACOSX/UCI HAR Dataset/train/Inertial Signals/._body_acc_x_train.txt  \n",
            "  inflating: Dataset/UCI HAR Dataset/train/Inertial Signals/body_acc_y_train.txt  \n",
            "  inflating: Dataset/__MACOSX/UCI HAR Dataset/train/Inertial Signals/._body_acc_y_train.txt  \n",
            "  inflating: Dataset/UCI HAR Dataset/train/Inertial Signals/body_acc_z_train.txt  \n",
            "  inflating: Dataset/__MACOSX/UCI HAR Dataset/train/Inertial Signals/._body_acc_z_train.txt  \n",
            "  inflating: Dataset/UCI HAR Dataset/train/Inertial Signals/body_gyro_x_train.txt  \n",
            "  inflating: Dataset/__MACOSX/UCI HAR Dataset/train/Inertial Signals/._body_gyro_x_train.txt  \n",
            "  inflating: Dataset/UCI HAR Dataset/train/Inertial Signals/body_gyro_y_train.txt  \n",
            "  inflating: Dataset/__MACOSX/UCI HAR Dataset/train/Inertial Signals/._body_gyro_y_train.txt  \n",
            "  inflating: Dataset/UCI HAR Dataset/train/Inertial Signals/body_gyro_z_train.txt  \n",
            "  inflating: Dataset/__MACOSX/UCI HAR Dataset/train/Inertial Signals/._body_gyro_z_train.txt  \n",
            "  inflating: Dataset/UCI HAR Dataset/train/Inertial Signals/total_acc_x_train.txt  \n",
            "  inflating: Dataset/__MACOSX/UCI HAR Dataset/train/Inertial Signals/._total_acc_x_train.txt  \n",
            "  inflating: Dataset/UCI HAR Dataset/train/Inertial Signals/total_acc_y_train.txt  \n",
            "  inflating: Dataset/__MACOSX/UCI HAR Dataset/train/Inertial Signals/._total_acc_y_train.txt  \n",
            "  inflating: Dataset/UCI HAR Dataset/train/Inertial Signals/total_acc_z_train.txt  \n",
            "  inflating: Dataset/__MACOSX/UCI HAR Dataset/train/Inertial Signals/._total_acc_z_train.txt  \n",
            "  inflating: Dataset/__MACOSX/UCI HAR Dataset/train/._Inertial Signals  \n",
            "  inflating: Dataset/UCI HAR Dataset/train/subject_train.txt  \n",
            "  inflating: Dataset/__MACOSX/UCI HAR Dataset/train/._subject_train.txt  \n",
            "  inflating: Dataset/UCI HAR Dataset/train/X_train.txt  \n",
            "  inflating: Dataset/__MACOSX/UCI HAR Dataset/train/._X_train.txt  \n",
            "  inflating: Dataset/UCI HAR Dataset/train/y_train.txt  \n",
            "  inflating: Dataset/__MACOSX/UCI HAR Dataset/train/._y_train.txt  \n",
            "  inflating: Dataset/__MACOSX/UCI HAR Dataset/._train  \n",
            "  inflating: Dataset/__MACOSX/._UCI HAR Dataset  \n"
          ],
          "name": "stdout"
        }
      ]
    },
    {
      "cell_type": "code",
      "metadata": {
        "id": "jFxMMdueDvUc"
      },
      "source": [
        "# -----= Read Dataset\r\n",
        "train_x = dataSetReader('Dataset/UCI HAR Dataset/train/X_train.txt')\r\n",
        "train_y = dataSetReader('Dataset/UCI HAR Dataset/train/y_train.txt')\r\n",
        "test_x = dataSetReader('Dataset/UCI HAR Dataset/test/X_test.txt')\r\n",
        "test_y = dataSetReader('Dataset/UCI HAR Dataset/test/y_test.txt')"
      ],
      "execution_count": 4,
      "outputs": []
    },
    {
      "cell_type": "code",
      "metadata": {
        "id": "LZsjTs1UD4uH"
      },
      "source": [
        "max_iter = 100\r\n",
        "clf = svm.SVC(decision_function_shape='ovo')\r\n",
        "clf.fit(train_x, train_y)\r\n",
        "result = []\r\n",
        "currect = 0"
      ],
      "execution_count": 7,
      "outputs": []
    },
    {
      "cell_type": "code",
      "metadata": {
        "id": "WabZDyy9EU7c"
      },
      "source": [
        "labels_predict = clf.predict(test_x)\r\n",
        "for i in range(len(labels_predict)):\r\n",
        "    if labels_predict[i] == test_y[i]:\r\n",
        "        currect += 1\r\n",
        "    result.append([i, test_y[i], labels_predict[i]])"
      ],
      "execution_count": 8,
      "outputs": []
    },
    {
      "cell_type": "code",
      "metadata": {
        "colab": {
          "base_uri": "https://localhost:8080/"
        },
        "id": "m640yDvgEfUQ",
        "outputId": "3adff2c5-3ad8-4ddc-9614-511a35e5ce09"
      },
      "source": [
        "print(\"\\n Accuracy : {}\".format((currect/len(test_y))*100))\r\n",
        "print(\"\\n MissClassification : {}\".format(((len(test_y) - currect)/len(test_y))*100))"
      ],
      "execution_count": 9,
      "outputs": [
        {
          "output_type": "stream",
          "text": [
            "\n",
            " Accuracy : 95.04580929759076\n",
            "\n",
            " MissClassification : 4.95419070240923\n"
          ],
          "name": "stdout"
        }
      ]
    }
  ]
}