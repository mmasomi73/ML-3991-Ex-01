{
  "nbformat": 4,
  "nbformat_minor": 0,
  "metadata": {
    "colab": {
      "name": "NaiveBayes.ipynb",
      "provenance": [],
      "collapsed_sections": []
    },
    "kernelspec": {
      "name": "python3",
      "display_name": "Python 3"
    }
  },
  "cells": [
    {
      "cell_type": "code",
      "metadata": {
        "id": "vVi2IdVBc4Bi"
      },
      "source": [
        "from sklearn.naive_bayes import GaussianNB\r\n",
        "import matplotlib.pyplot as plt\r\n",
        "import numpy as np\r\n",
        "import os"
      ],
      "execution_count": 12,
      "outputs": []
    },
    {
      "cell_type": "code",
      "metadata": {
        "id": "JBeYleocdUPw"
      },
      "source": [
        "def dataSetReader(path):\r\n",
        "    if not os.path.isfile(path):\r\n",
        "        print(\"\\t+------------------------+\")\r\n",
        "        print(\"\\t| File or Path Incorrect |\")\r\n",
        "        print(\"\\t+------------------------+\")\r\n",
        "        return np.array([])\r\n",
        "    return np.loadtxt(path)"
      ],
      "execution_count": 13,
      "outputs": []
    },
    {
      "cell_type": "code",
      "metadata": {
        "colab": {
          "base_uri": "https://localhost:8080/"
        },
        "id": "5bEpZFoEdWNu",
        "outputId": "4fb082ed-456b-49ce-fa3b-da2c42505f15"
      },
      "source": [
        "! wget -O UCI_HAR_Dataset.zip https://archive.ics.uci.edu/ml/machine-learning-databases/00240/UCI%20HAR%20Dataset.zip\r\n",
        "! unzip UCI_HAR_Dataset.zip  -d Dataset"
      ],
      "execution_count": 4,
      "outputs": [
        {
          "output_type": "stream",
          "text": [
            "--2021-01-05 12:11:25--  https://archive.ics.uci.edu/ml/machine-learning-databases/00240/UCI%20HAR%20Dataset.zip\n",
            "Resolving archive.ics.uci.edu (archive.ics.uci.edu)... 128.195.10.252\n",
            "Connecting to archive.ics.uci.edu (archive.ics.uci.edu)|128.195.10.252|:443... connected.\n",
            "HTTP request sent, awaiting response... 200 OK\n",
            "Length: 60999314 (58M) [application/x-httpd-php]\n",
            "Saving to: ‘UCI_HAR_Dataset.zip’\n",
            "\n",
            "UCI_HAR_Dataset.zip 100%[===================>]  58.17M  73.6MB/s    in 0.8s    \n",
            "\n",
            "2021-01-05 12:11:26 (73.6 MB/s) - ‘UCI_HAR_Dataset.zip’ saved [60999314/60999314]\n",
            "\n",
            "Archive:  UCI_HAR_Dataset.zip\n",
            "   creating: Dataset/UCI HAR Dataset/\n",
            "  inflating: Dataset/UCI HAR Dataset/.DS_Store  \n",
            "   creating: Dataset/__MACOSX/\n",
            "   creating: Dataset/__MACOSX/UCI HAR Dataset/\n",
            "  inflating: Dataset/__MACOSX/UCI HAR Dataset/._.DS_Store  \n",
            "  inflating: Dataset/UCI HAR Dataset/activity_labels.txt  \n",
            "  inflating: Dataset/__MACOSX/UCI HAR Dataset/._activity_labels.txt  \n",
            "  inflating: Dataset/UCI HAR Dataset/features.txt  \n",
            "  inflating: Dataset/__MACOSX/UCI HAR Dataset/._features.txt  \n",
            "  inflating: Dataset/UCI HAR Dataset/features_info.txt  \n",
            "  inflating: Dataset/__MACOSX/UCI HAR Dataset/._features_info.txt  \n",
            "  inflating: Dataset/UCI HAR Dataset/README.txt  \n",
            "  inflating: Dataset/__MACOSX/UCI HAR Dataset/._README.txt  \n",
            "   creating: Dataset/UCI HAR Dataset/test/\n",
            "   creating: Dataset/UCI HAR Dataset/test/Inertial Signals/\n",
            "  inflating: Dataset/UCI HAR Dataset/test/Inertial Signals/body_acc_x_test.txt  \n",
            "   creating: Dataset/__MACOSX/UCI HAR Dataset/test/\n",
            "   creating: Dataset/__MACOSX/UCI HAR Dataset/test/Inertial Signals/\n",
            "  inflating: Dataset/__MACOSX/UCI HAR Dataset/test/Inertial Signals/._body_acc_x_test.txt  \n",
            "  inflating: Dataset/UCI HAR Dataset/test/Inertial Signals/body_acc_y_test.txt  \n",
            "  inflating: Dataset/__MACOSX/UCI HAR Dataset/test/Inertial Signals/._body_acc_y_test.txt  \n",
            "  inflating: Dataset/UCI HAR Dataset/test/Inertial Signals/body_acc_z_test.txt  \n",
            "  inflating: Dataset/__MACOSX/UCI HAR Dataset/test/Inertial Signals/._body_acc_z_test.txt  \n",
            "  inflating: Dataset/UCI HAR Dataset/test/Inertial Signals/body_gyro_x_test.txt  \n",
            "  inflating: Dataset/__MACOSX/UCI HAR Dataset/test/Inertial Signals/._body_gyro_x_test.txt  \n",
            "  inflating: Dataset/UCI HAR Dataset/test/Inertial Signals/body_gyro_y_test.txt  \n",
            "  inflating: Dataset/__MACOSX/UCI HAR Dataset/test/Inertial Signals/._body_gyro_y_test.txt  \n",
            "  inflating: Dataset/UCI HAR Dataset/test/Inertial Signals/body_gyro_z_test.txt  \n",
            "  inflating: Dataset/__MACOSX/UCI HAR Dataset/test/Inertial Signals/._body_gyro_z_test.txt  \n",
            "  inflating: Dataset/UCI HAR Dataset/test/Inertial Signals/total_acc_x_test.txt  \n",
            "  inflating: Dataset/__MACOSX/UCI HAR Dataset/test/Inertial Signals/._total_acc_x_test.txt  \n",
            "  inflating: Dataset/UCI HAR Dataset/test/Inertial Signals/total_acc_y_test.txt  \n",
            "  inflating: Dataset/__MACOSX/UCI HAR Dataset/test/Inertial Signals/._total_acc_y_test.txt  \n",
            "  inflating: Dataset/UCI HAR Dataset/test/Inertial Signals/total_acc_z_test.txt  \n",
            "  inflating: Dataset/__MACOSX/UCI HAR Dataset/test/Inertial Signals/._total_acc_z_test.txt  \n",
            "  inflating: Dataset/__MACOSX/UCI HAR Dataset/test/._Inertial Signals  \n",
            "  inflating: Dataset/UCI HAR Dataset/test/subject_test.txt  \n",
            "  inflating: Dataset/__MACOSX/UCI HAR Dataset/test/._subject_test.txt  \n",
            "  inflating: Dataset/UCI HAR Dataset/test/X_test.txt  \n",
            "  inflating: Dataset/__MACOSX/UCI HAR Dataset/test/._X_test.txt  \n",
            "  inflating: Dataset/UCI HAR Dataset/test/y_test.txt  \n",
            "  inflating: Dataset/__MACOSX/UCI HAR Dataset/test/._y_test.txt  \n",
            "  inflating: Dataset/__MACOSX/UCI HAR Dataset/._test  \n",
            "   creating: Dataset/UCI HAR Dataset/train/\n",
            "   creating: Dataset/UCI HAR Dataset/train/Inertial Signals/\n",
            "  inflating: Dataset/UCI HAR Dataset/train/Inertial Signals/body_acc_x_train.txt  \n",
            "   creating: Dataset/__MACOSX/UCI HAR Dataset/train/\n",
            "   creating: Dataset/__MACOSX/UCI HAR Dataset/train/Inertial Signals/\n",
            "  inflating: Dataset/__MACOSX/UCI HAR Dataset/train/Inertial Signals/._body_acc_x_train.txt  \n",
            "  inflating: Dataset/UCI HAR Dataset/train/Inertial Signals/body_acc_y_train.txt  \n",
            "  inflating: Dataset/__MACOSX/UCI HAR Dataset/train/Inertial Signals/._body_acc_y_train.txt  \n",
            "  inflating: Dataset/UCI HAR Dataset/train/Inertial Signals/body_acc_z_train.txt  \n",
            "  inflating: Dataset/__MACOSX/UCI HAR Dataset/train/Inertial Signals/._body_acc_z_train.txt  \n",
            "  inflating: Dataset/UCI HAR Dataset/train/Inertial Signals/body_gyro_x_train.txt  \n",
            "  inflating: Dataset/__MACOSX/UCI HAR Dataset/train/Inertial Signals/._body_gyro_x_train.txt  \n",
            "  inflating: Dataset/UCI HAR Dataset/train/Inertial Signals/body_gyro_y_train.txt  \n",
            "  inflating: Dataset/__MACOSX/UCI HAR Dataset/train/Inertial Signals/._body_gyro_y_train.txt  \n",
            "  inflating: Dataset/UCI HAR Dataset/train/Inertial Signals/body_gyro_z_train.txt  \n",
            "  inflating: Dataset/__MACOSX/UCI HAR Dataset/train/Inertial Signals/._body_gyro_z_train.txt  \n",
            "  inflating: Dataset/UCI HAR Dataset/train/Inertial Signals/total_acc_x_train.txt  \n",
            "  inflating: Dataset/__MACOSX/UCI HAR Dataset/train/Inertial Signals/._total_acc_x_train.txt  \n",
            "  inflating: Dataset/UCI HAR Dataset/train/Inertial Signals/total_acc_y_train.txt  \n",
            "  inflating: Dataset/__MACOSX/UCI HAR Dataset/train/Inertial Signals/._total_acc_y_train.txt  \n",
            "  inflating: Dataset/UCI HAR Dataset/train/Inertial Signals/total_acc_z_train.txt  \n",
            "  inflating: Dataset/__MACOSX/UCI HAR Dataset/train/Inertial Signals/._total_acc_z_train.txt  \n",
            "  inflating: Dataset/__MACOSX/UCI HAR Dataset/train/._Inertial Signals  \n",
            "  inflating: Dataset/UCI HAR Dataset/train/subject_train.txt  \n",
            "  inflating: Dataset/__MACOSX/UCI HAR Dataset/train/._subject_train.txt  \n",
            "  inflating: Dataset/UCI HAR Dataset/train/X_train.txt  \n",
            "  inflating: Dataset/__MACOSX/UCI HAR Dataset/train/._X_train.txt  \n",
            "  inflating: Dataset/UCI HAR Dataset/train/y_train.txt  \n",
            "  inflating: Dataset/__MACOSX/UCI HAR Dataset/train/._y_train.txt  \n",
            "  inflating: Dataset/__MACOSX/UCI HAR Dataset/._train  \n",
            "  inflating: Dataset/__MACOSX/._UCI HAR Dataset  \n"
          ],
          "name": "stdout"
        }
      ]
    },
    {
      "cell_type": "code",
      "metadata": {
        "id": "iUGO_aNJdYHJ"
      },
      "source": [
        "# -----= Read Dataset\r\n",
        "train_x = dataSetReader('Dataset/UCI HAR Dataset/train/X_train.txt')\r\n",
        "train_y = dataSetReader('Dataset/UCI HAR Dataset/train/y_train.txt')\r\n",
        "test_x = dataSetReader('Dataset/UCI HAR Dataset/test/X_test.txt')\r\n",
        "test_y = dataSetReader('Dataset/UCI HAR Dataset/test/y_test.txt')"
      ],
      "execution_count": 8,
      "outputs": []
    },
    {
      "cell_type": "code",
      "metadata": {
        "id": "AE8JVnJOdbQw"
      },
      "source": [
        "alpha = 0.1\r\n",
        "clf = GaussianNB()\r\n",
        "clf.fit(train_x, train_y)\r\n",
        "result = []\r\n",
        "currect = 0\r\n"
      ],
      "execution_count": 22,
      "outputs": []
    },
    {
      "cell_type": "code",
      "metadata": {
        "id": "8iEh9PCAgiNs"
      },
      "source": [
        "labels_predict = clf.predict(test_x)\r\n",
        "for i in range(len(labels_predict)):\r\n",
        "    if labels_predict[i] == test_y[i]:\r\n",
        "        currect += 1\r\n",
        "    result.append([i, test_y[i], labels_predict[i]])"
      ],
      "execution_count": 23,
      "outputs": []
    },
    {
      "cell_type": "code",
      "metadata": {
        "colab": {
          "base_uri": "https://localhost:8080/"
        },
        "id": "0Z4oII4Vgkta",
        "outputId": "a99986fc-06df-4b9c-d875-a3404614d670"
      },
      "source": [
        "print(\"\\n Accuracy : {}\".format((currect/len(test_y))*100))\r\n",
        "print(\"\\n MissClassification : {}\".format(((len(test_y) - currect)/len(test_y))*100))\r\n"
      ],
      "execution_count": 25,
      "outputs": [
        {
          "output_type": "stream",
          "text": [
            "\n",
            " Accuracy : 77.02748557855446\n",
            "\n",
            " MissClassification : 22.97251442144554\n"
          ],
          "name": "stdout"
        }
      ]
    }
  ]
}