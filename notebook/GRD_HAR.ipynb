{
  "nbformat": 4,
  "nbformat_minor": 0,
  "metadata": {
    "colab": {
      "name": "GRD_HAR.ipynb",
      "provenance": [],
      "collapsed_sections": []
    },
    "kernelspec": {
      "name": "python3",
      "display_name": "Python 3"
    }
  },
  "cells": [
    {
      "cell_type": "markdown",
      "metadata": {
        "id": "NH2zZVrZUVMf"
      },
      "source": [
        "Gradient descent Linear Classification Of HAR Dataset\r\n"
      ]
    },
    {
      "cell_type": "code",
      "metadata": {
        "id": "Qv3xMM9jUjEW"
      },
      "source": [
        "from sklearn.linear_model import SGDClassifier\r\n",
        "import matplotlib.pyplot as plt\r\n",
        "import numpy as np\r\n",
        "import os"
      ],
      "execution_count": 1,
      "outputs": []
    },
    {
      "cell_type": "code",
      "metadata": {
        "id": "CNDRzK-vUsVU"
      },
      "source": [
        "def dataSetReader(path):\r\n",
        "    if not os.path.isfile(path):\r\n",
        "        print(\"\\t+------------------------+\")\r\n",
        "        print(\"\\t| File or Path Incorrect |\")\r\n",
        "        print(\"\\t+------------------------+\")\r\n",
        "        return np.array([])\r\n",
        "    return np.loadtxt(path)"
      ],
      "execution_count": 2,
      "outputs": []
    },
    {
      "cell_type": "code",
      "metadata": {
        "colab": {
          "base_uri": "https://localhost:8080/"
        },
        "id": "WHaoVN1PUyhd",
        "outputId": "62e01dcf-6237-4d4b-c34a-def1fd0c87e2"
      },
      "source": [
        "! wget -O UCI_HAR_Dataset.zip https://archive.ics.uci.edu/ml/machine-learning-databases/00240/UCI%20HAR%20Dataset.zip\r\n",
        "! unzip UCI_HAR_Dataset.zip  -d Dataset"
      ],
      "execution_count": 6,
      "outputs": [
        {
          "output_type": "stream",
          "text": [
            "--2021-01-05 11:39:45--  https://archive.ics.uci.edu/ml/machine-learning-databases/00240/UCI%20HAR%20Dataset.zip\n",
            "Resolving archive.ics.uci.edu (archive.ics.uci.edu)... 128.195.10.252\n",
            "Connecting to archive.ics.uci.edu (archive.ics.uci.edu)|128.195.10.252|:443... connected.\n",
            "HTTP request sent, awaiting response... 200 OK\n",
            "Length: 60999314 (58M) [application/x-httpd-php]\n",
            "Saving to: ‘UCI_HAR_Dataset.zip’\n",
            "\n",
            "UCI_HAR_Dataset.zip 100%[===================>]  58.17M  33.2MB/s    in 1.8s    \n",
            "\n",
            "2021-01-05 11:39:47 (33.2 MB/s) - ‘UCI_HAR_Dataset.zip’ saved [60999314/60999314]\n",
            "\n",
            "Archive:  UCI_HAR_Dataset.zip\n",
            "   creating: Dataset/UCI HAR Dataset/\n",
            "  inflating: Dataset/UCI HAR Dataset/.DS_Store  \n",
            "   creating: Dataset/__MACOSX/\n",
            "   creating: Dataset/__MACOSX/UCI HAR Dataset/\n",
            "  inflating: Dataset/__MACOSX/UCI HAR Dataset/._.DS_Store  \n",
            "  inflating: Dataset/UCI HAR Dataset/activity_labels.txt  \n",
            "  inflating: Dataset/__MACOSX/UCI HAR Dataset/._activity_labels.txt  \n",
            "  inflating: Dataset/UCI HAR Dataset/features.txt  \n",
            "  inflating: Dataset/__MACOSX/UCI HAR Dataset/._features.txt  \n",
            "  inflating: Dataset/UCI HAR Dataset/features_info.txt  \n",
            "  inflating: Dataset/__MACOSX/UCI HAR Dataset/._features_info.txt  \n",
            "  inflating: Dataset/UCI HAR Dataset/README.txt  \n",
            "  inflating: Dataset/__MACOSX/UCI HAR Dataset/._README.txt  \n",
            "   creating: Dataset/UCI HAR Dataset/test/\n",
            "   creating: Dataset/UCI HAR Dataset/test/Inertial Signals/\n",
            "  inflating: Dataset/UCI HAR Dataset/test/Inertial Signals/body_acc_x_test.txt  \n",
            "   creating: Dataset/__MACOSX/UCI HAR Dataset/test/\n",
            "   creating: Dataset/__MACOSX/UCI HAR Dataset/test/Inertial Signals/\n",
            "  inflating: Dataset/__MACOSX/UCI HAR Dataset/test/Inertial Signals/._body_acc_x_test.txt  \n",
            "  inflating: Dataset/UCI HAR Dataset/test/Inertial Signals/body_acc_y_test.txt  \n",
            "  inflating: Dataset/__MACOSX/UCI HAR Dataset/test/Inertial Signals/._body_acc_y_test.txt  \n",
            "  inflating: Dataset/UCI HAR Dataset/test/Inertial Signals/body_acc_z_test.txt  \n",
            "  inflating: Dataset/__MACOSX/UCI HAR Dataset/test/Inertial Signals/._body_acc_z_test.txt  \n",
            "  inflating: Dataset/UCI HAR Dataset/test/Inertial Signals/body_gyro_x_test.txt  \n",
            "  inflating: Dataset/__MACOSX/UCI HAR Dataset/test/Inertial Signals/._body_gyro_x_test.txt  \n",
            "  inflating: Dataset/UCI HAR Dataset/test/Inertial Signals/body_gyro_y_test.txt  \n",
            "  inflating: Dataset/__MACOSX/UCI HAR Dataset/test/Inertial Signals/._body_gyro_y_test.txt  \n",
            "  inflating: Dataset/UCI HAR Dataset/test/Inertial Signals/body_gyro_z_test.txt  \n",
            "  inflating: Dataset/__MACOSX/UCI HAR Dataset/test/Inertial Signals/._body_gyro_z_test.txt  \n",
            "  inflating: Dataset/UCI HAR Dataset/test/Inertial Signals/total_acc_x_test.txt  \n",
            "  inflating: Dataset/__MACOSX/UCI HAR Dataset/test/Inertial Signals/._total_acc_x_test.txt  \n",
            "  inflating: Dataset/UCI HAR Dataset/test/Inertial Signals/total_acc_y_test.txt  \n",
            "  inflating: Dataset/__MACOSX/UCI HAR Dataset/test/Inertial Signals/._total_acc_y_test.txt  \n",
            "  inflating: Dataset/UCI HAR Dataset/test/Inertial Signals/total_acc_z_test.txt  \n",
            "  inflating: Dataset/__MACOSX/UCI HAR Dataset/test/Inertial Signals/._total_acc_z_test.txt  \n",
            "  inflating: Dataset/__MACOSX/UCI HAR Dataset/test/._Inertial Signals  \n",
            "  inflating: Dataset/UCI HAR Dataset/test/subject_test.txt  \n",
            "  inflating: Dataset/__MACOSX/UCI HAR Dataset/test/._subject_test.txt  \n",
            "  inflating: Dataset/UCI HAR Dataset/test/X_test.txt  \n",
            "  inflating: Dataset/__MACOSX/UCI HAR Dataset/test/._X_test.txt  \n",
            "  inflating: Dataset/UCI HAR Dataset/test/y_test.txt  \n",
            "  inflating: Dataset/__MACOSX/UCI HAR Dataset/test/._y_test.txt  \n",
            "  inflating: Dataset/__MACOSX/UCI HAR Dataset/._test  \n",
            "   creating: Dataset/UCI HAR Dataset/train/\n",
            "   creating: Dataset/UCI HAR Dataset/train/Inertial Signals/\n",
            "  inflating: Dataset/UCI HAR Dataset/train/Inertial Signals/body_acc_x_train.txt  \n",
            "   creating: Dataset/__MACOSX/UCI HAR Dataset/train/\n",
            "   creating: Dataset/__MACOSX/UCI HAR Dataset/train/Inertial Signals/\n",
            "  inflating: Dataset/__MACOSX/UCI HAR Dataset/train/Inertial Signals/._body_acc_x_train.txt  \n",
            "  inflating: Dataset/UCI HAR Dataset/train/Inertial Signals/body_acc_y_train.txt  \n",
            "  inflating: Dataset/__MACOSX/UCI HAR Dataset/train/Inertial Signals/._body_acc_y_train.txt  \n",
            "  inflating: Dataset/UCI HAR Dataset/train/Inertial Signals/body_acc_z_train.txt  \n",
            "  inflating: Dataset/__MACOSX/UCI HAR Dataset/train/Inertial Signals/._body_acc_z_train.txt  \n",
            "  inflating: Dataset/UCI HAR Dataset/train/Inertial Signals/body_gyro_x_train.txt  \n",
            "  inflating: Dataset/__MACOSX/UCI HAR Dataset/train/Inertial Signals/._body_gyro_x_train.txt  \n",
            "  inflating: Dataset/UCI HAR Dataset/train/Inertial Signals/body_gyro_y_train.txt  \n",
            "  inflating: Dataset/__MACOSX/UCI HAR Dataset/train/Inertial Signals/._body_gyro_y_train.txt  \n",
            "  inflating: Dataset/UCI HAR Dataset/train/Inertial Signals/body_gyro_z_train.txt  \n",
            "  inflating: Dataset/__MACOSX/UCI HAR Dataset/train/Inertial Signals/._body_gyro_z_train.txt  \n",
            "  inflating: Dataset/UCI HAR Dataset/train/Inertial Signals/total_acc_x_train.txt  \n",
            "  inflating: Dataset/__MACOSX/UCI HAR Dataset/train/Inertial Signals/._total_acc_x_train.txt  \n",
            "  inflating: Dataset/UCI HAR Dataset/train/Inertial Signals/total_acc_y_train.txt  \n",
            "  inflating: Dataset/__MACOSX/UCI HAR Dataset/train/Inertial Signals/._total_acc_y_train.txt  \n",
            "  inflating: Dataset/UCI HAR Dataset/train/Inertial Signals/total_acc_z_train.txt  \n",
            "  inflating: Dataset/__MACOSX/UCI HAR Dataset/train/Inertial Signals/._total_acc_z_train.txt  \n",
            "  inflating: Dataset/__MACOSX/UCI HAR Dataset/train/._Inertial Signals  \n",
            "  inflating: Dataset/UCI HAR Dataset/train/subject_train.txt  \n",
            "  inflating: Dataset/__MACOSX/UCI HAR Dataset/train/._subject_train.txt  \n",
            "  inflating: Dataset/UCI HAR Dataset/train/X_train.txt  \n",
            "  inflating: Dataset/__MACOSX/UCI HAR Dataset/train/._X_train.txt  \n",
            "  inflating: Dataset/UCI HAR Dataset/train/y_train.txt  \n",
            "  inflating: Dataset/__MACOSX/UCI HAR Dataset/train/._y_train.txt  \n",
            "  inflating: Dataset/__MACOSX/UCI HAR Dataset/._train  \n",
            "  inflating: Dataset/__MACOSX/._UCI HAR Dataset  \n"
          ],
          "name": "stdout"
        }
      ]
    },
    {
      "cell_type": "code",
      "metadata": {
        "id": "qInzXiw_WNQ-"
      },
      "source": [
        "# -----= Read Dataset\r\n",
        "train_x = dataSetReader('Dataset/UCI HAR Dataset/train/X_train.txt')\r\n",
        "train_y = dataSetReader('Dataset/UCI HAR Dataset/train/y_train.txt')\r\n",
        "test_x = dataSetReader('Dataset/UCI HAR Dataset/test/X_test.txt')\r\n",
        "test_y = dataSetReader('Dataset/UCI HAR Dataset/test/y_test.txt')"
      ],
      "execution_count": 7,
      "outputs": []
    },
    {
      "cell_type": "code",
      "metadata": {
        "id": "66RWWa6GWUkK"
      },
      "source": [
        "max_iter = 100\r\n",
        "clf = SGDClassifier(loss=\"hinge\", penalty=\"l2\", max_iter=max_iter)\r\n",
        "clf.fit(train_x, train_y)\r\n",
        "result = []\r\n",
        "currect = 0"
      ],
      "execution_count": 25,
      "outputs": []
    },
    {
      "cell_type": "code",
      "metadata": {
        "id": "G5u5DYNWWYN9"
      },
      "source": [
        "labels_predict = clf.predict(test_x)\r\n",
        "for i in range(len(labels_predict)):\r\n",
        "    if labels_predict[i] == test_y[i]:\r\n",
        "        currect += 1\r\n",
        "    result.append([i, test_y[i], labels_predict[i]])"
      ],
      "execution_count": 26,
      "outputs": []
    },
    {
      "cell_type": "code",
      "metadata": {
        "colab": {
          "base_uri": "https://localhost:8080/"
        },
        "id": "78CGGXChXz5E",
        "outputId": "4c82c6f7-78ae-4601-aeed-7876e225ec52"
      },
      "source": [
        "print(\"\\n Accuracy : {}\".format((currect/len(test_y))*100))\r\n",
        "print(\"\\n MissClassification : {}\".format(((len(test_y) - currect)/len(test_y))*100))\r\n",
        "print(\"\\n Coefficients : {}\".format(clf.coef_))"
      ],
      "execution_count": 27,
      "outputs": [
        {
          "output_type": "stream",
          "text": [
            "\n",
            " Accuracy : 96.09772650152698\n",
            "\n",
            " MissClassification : 3.902273498473023\n",
            "\n",
            " Coefficients : [[-0.46657125 -0.1695733   0.14926557 ... -1.58209553 -0.50261846\n",
            "   0.64463294]\n",
            " [-0.53716302 -0.76922419 -1.36828384 ...  1.29171547  2.82272675\n",
            "   1.12315411]\n",
            " [ 1.7247581   0.44135066  0.53430171 ... -2.24308897 -1.16369214\n",
            "  -0.29086617]\n",
            " [ 0.05495201  0.05251854 -0.34425772 ... -5.09236333 -5.35474833\n",
            "  -0.68042826]\n",
            " [ 0.25653925  0.06952573  0.485345   ... -3.83721683  7.41893374\n",
            "   0.97580571]\n",
            " [-0.41969463  0.06042265  0.3454664  ... 10.73768014 -2.70976047\n",
            "  -1.01814492]]\n"
          ],
          "name": "stdout"
        }
      ]
    }
  ]
}